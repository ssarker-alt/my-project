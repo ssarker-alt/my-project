{
 "cells": [
  {
   "cell_type": "markdown",
   "metadata": {},
   "source": [
    "**Practice:**\n",
    "1. **Basic Decision Making:**   - Write a program to check if a number is positive, negative, or zero.   - Input: Any integer.   - Output: A string stating the type of number.\n",
    "2. **Logical Operators:**   - Create a program that determines if a year is a leap year. Use logical operators.   - Input: A year.   - Output: True if a leap year, False otherwise.\n",
    "3. **Nested Conditional Statements:**   \n",
    " Develop a program that categorizes a person's life stage: child (< 18), adult (18-64), senior (> 64).   - Input: Age as an integer.   - Output: The life stage. \n",
    "4. **Task 4.1:** Write a program that asks for the temperature in Fahrenheit and Celsius, and the unit to which you want to convert. It should then convert the temperature.\n",
    "  - **Input:** Temperature and the target unit (`\"Celsius\"` or `\"Fahrenheit\"`).\n",
    "  - **Output:** The converted temperature.\n",
    "5. ## Exercise 5: Grading System\n",
    "Implement a decision-making structure for a grading system.\n",
    "- **Task 5.1:** Write a program to convert a percentage score to a letter grade.\n",
    "  - **A:** 90–100\n",
    "  - **B:** 80–89\n",
    "  - **C:** 70–79\n",
    "  - **D:** 60–69\n",
    "  - **F:** Below 60\n",
    "  - **Input:** Score as a percentage.\n",
    "  - **Output:** The corresponding grade."
   ]
  },
  {
   "cell_type": "code",
   "execution_count": 18,
   "metadata": {},
   "outputs": [
    {
     "name": "stdout",
     "output_type": "stream",
     "text": [
      "The number is zero.\n"
     ]
    }
   ],
   "source": [
    "#1 \n",
    "\n",
    "# Get input from the user \n",
    "number = int(input(\"Enter an integer: \"))\n",
    "\n",
    "# If number is positive, negative, or zero \n",
    "if number > 0:\n",
    "    print(\"The number is positive.\")\n",
    "elif number < 0:\n",
    "    print(\"The number is negative.\")\n",
    "else:\n",
    "    print(\"The number is zero.\")"
   ]
  },
  {
   "cell_type": "code",
   "execution_count": 23,
   "metadata": {},
   "outputs": [
    {
     "name": "stdout",
     "output_type": "stream",
     "text": [
      "False\n"
     ]
    }
   ],
   "source": [
    "#2 \n",
    "\n",
    "# Get the input from the user \n",
    "year = int(input(\"Enter a year: \"))\n",
    "\n",
    "# Check if the year is a leap year \n",
    "leap_year = (year % 400 == 0) \n",
    "\n",
    "# Output the result \n",
    "print(leap_year)"
   ]
  },
  {
   "cell_type": "code",
   "execution_count": 22,
   "metadata": {},
   "outputs": [
    {
     "name": "stdout",
     "output_type": "stream",
     "text": [
      "You are a senior.\n"
     ]
    }
   ],
   "source": [
    "#3 \n",
    "\n",
    "# Program to categorize life stage based on age \n",
    "age = int(input(\"Enter your age: \"))\n",
    "\n",
    "# Determine the life stage \n",
    "if age < 18: \n",
    "    print(\"You are a child.\")\n",
    "elif age <= 64: \n",
    "    print(\"You are an adult.\")\n",
    "else: \n",
    "    print(\"You are a senior.\")"
   ]
  },
  {
   "cell_type": "code",
   "execution_count": 47,
   "metadata": {},
   "outputs": [
    {
     "name": "stdout",
     "output_type": "stream",
     "text": [
      "99 Celsius is 210.20 Fahrenheit.\n"
     ]
    }
   ],
   "source": [
    "#4 \n",
    "\n",
    "# Get input from the user \n",
    "temperature = int(input(\"Enter the temperature: \"))\n",
    "unit = input(\"Enter the target unit (Celsius or Fahrenheit): \")\n",
    "\n",
    "# Convert based on the target unit\n",
    "if unit == \"celsius\":\n",
    "    convert_temp = (temperature - 32) * 5 / 9  # F to C\n",
    "    print(f\"{temperature} Fahrenheit is {convert_temp:.2f} Celsius.\")\n",
    "\n",
    "elif unit == \"fahrenheit\":\n",
    "    convert_temp = (temperature * 9 / 5) + 32  # C to F\n",
    "    print(f\"{temperature} Celsius is {convert_temp:.2f} Fahrenheit.\")"
   ]
  },
  {
   "cell_type": "code",
   "execution_count": 46,
   "metadata": {},
   "outputs": [
    {
     "name": "stdout",
     "output_type": "stream",
     "text": [
      "Your letter grade is: B\n"
     ]
    }
   ],
   "source": [
    "#5\n",
    "\n",
    "# Get input from the user \n",
    "score = int(input(\"Enter your score as a percentage (0-100): \"))\n",
    "\n",
    "# Determine the letter grade \n",
    "if score >= 90: \n",
    "    grade = \"A\"\n",
    "elif score >= 80: \n",
    "    grade = \"B\"\n",
    "elif score >= 70:\n",
    "    grade = \"C\"\n",
    "elif score >= 60:\n",
    "    grade = \"D\"\n",
    "else: \n",
    "    grade = \"F\"\n",
    "\n",
    "# Output Grade \n",
    "print(f\"Your letter grade is: {grade}\")"
   ]
  }
 ],
 "metadata": {
  "kernelspec": {
   "display_name": "Python 3",
   "language": "python",
   "name": "python3"
  },
  "language_info": {
   "codemirror_mode": {
    "name": "ipython",
    "version": 3
   },
   "file_extension": ".py",
   "mimetype": "text/x-python",
   "name": "python",
   "nbconvert_exporter": "python",
   "pygments_lexer": "ipython3",
   "version": "3.12.6"
  }
 },
 "nbformat": 4,
 "nbformat_minor": 2
}
