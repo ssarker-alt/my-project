{
 "cells": [
  {
   "cell_type": "markdown",
   "metadata": {},
   "source": [
    "# Strings in Python Assignment\n",
    "\n",
    "## Exercise 1: String Basics\n",
    "\n",
    "Strings are a fundamental data type in Python, representing sequences of characters. Understanding how to manipulate and utilize strings is crucial in programming.\n"
   ]
  },
  {
   "cell_type": "markdown",
   "metadata": {},
   "source": [
    "* **Task 1.1:** Define a string variable named `greeting` with the value `\"Hello, world!\"`. Then, use the `print()` function to display the length of this string using the `len()` function.\n",
    "\n",
    "  Example:\n",
    "\n",
    "  \n",
    "\n",
    "```python\n",
    "  greeting = \"Hello, world!\"\n",
    "  print(len(greeting))\n",
    "  ```\n"
   ]
  },
  {
   "cell_type": "code",
   "execution_count": null,
   "metadata": {},
   "outputs": [],
   "source": [
    "# Task 1.1"
   ]
  },
  {
   "cell_type": "markdown",
   "metadata": {},
   "source": [
    "* **Task 1.2:** Create two string variables,  `first_name` as `\"Alice\"` and `last_name` as `\"Smith\"`. Concatenate these two strings with a space in between and print the result.\n",
    "\n",
    "  Example:\n",
    "\n",
    "  \n",
    "\n",
    "```python\n",
    "  first_name = \"Alice\"\n",
    "  last_name = \"Smith\"\n",
    "  full_name = first_name + \" \" + last_name\n",
    "  print(full_name)\n",
    "  ```\n"
   ]
  },
  {
   "cell_type": "code",
   "execution_count": null,
   "metadata": {},
   "outputs": [],
   "source": [
    "# Task 1.2"
   ]
  },
  {
   "cell_type": "markdown",
   "metadata": {},
   "source": [
    "* **Task 1.3:** Using the `replace()` method, change the first occurrence of the letter `\"o\"` in the `greeting` variable to `\"@\"` and print the new string.\n"
   ]
  },
  {
   "cell_type": "code",
   "execution_count": null,
   "metadata": {},
   "outputs": [],
   "source": [
    "# Task 1.3"
   ]
  },
  {
   "cell_type": "markdown",
   "metadata": {},
   "source": [
    "## Exercise 2: String Indexing and Slicing\n",
    "\n",
    "Indexing and slicing are powerful tools for accessing specific parts of strings.\n"
   ]
  },
  {
   "cell_type": "markdown",
   "metadata": {},
   "source": [
    "* **Task 2.1:** Print the first and last character of the `greeting` variable. Remember, string indexing starts at 0.\n"
   ]
  },
  {
   "cell_type": "code",
   "execution_count": null,
   "metadata": {},
   "outputs": [],
   "source": [
    "# Task 2.1"
   ]
  },
  {
   "cell_type": "markdown",
   "metadata": {},
   "source": [
    "* **Task 2.2:** Slice the `greeting` string to extract the substring `\"Hello\"` and print it.\n"
   ]
  },
  {
   "cell_type": "code",
   "execution_count": null,
   "metadata": {},
   "outputs": [],
   "source": [
    "# Task 2.2"
   ]
  },
  {
   "cell_type": "markdown",
   "metadata": {},
   "source": [
    "## Exercise 3: Exploring String Methods\n",
    "\n",
    "Python provides numerous methods for string manipulation. Experimenting with these helps you understand their functionality.\n"
   ]
  },
  {
   "cell_type": "markdown",
   "metadata": {},
   "source": [
    "* **Task 3.1:** Convert the `greeting` string to uppercase using the `upper()` method and print the result. Then, convert it to lowercase using the `lower()` method and print it.\n"
   ]
  },
  {
   "cell_type": "code",
   "execution_count": null,
   "metadata": {},
   "outputs": [],
   "source": [
    "# Task 3.1"
   ]
  },
  {
   "cell_type": "markdown",
   "metadata": {},
   "source": [
    "* **Task 3.2:** Split the `greeting` string into individual words using the `split()` method and print the list of words.\n"
   ]
  },
  {
   "cell_type": "code",
   "execution_count": null,
   "metadata": {},
   "outputs": [],
   "source": [
    "# Task 3.2"
   ]
  },
  {
   "cell_type": "markdown",
   "metadata": {},
   "source": [
    "## Additional Challenges\n",
    "\n",
    "For a deeper understanding, try these additional tasks:\n"
   ]
  },
  {
   "cell_type": "markdown",
   "metadata": {},
   "source": [
    "* **Challenge 1:** Use the `format()` method to create a personalized greeting. For instance,  `\"Hello, {name}!\"` where `{name}` is replaced with a variable `user_name` that you define.\n"
   ]
  },
  {
   "cell_type": "code",
   "execution_count": null,
   "metadata": {},
   "outputs": [],
   "source": [
    "# Challenge 1"
   ]
  },
  {
   "cell_type": "markdown",
   "metadata": {},
   "source": [
    "* **Challenge 2:** Write a Python script that reverses the `greeting` string and prints it.\n"
   ]
  },
  {
   "cell_type": "code",
   "execution_count": null,
   "metadata": {},
   "outputs": [],
   "source": [
    "# Challenge 2"
   ]
  }
 ],
 "metadata": {
  "language_info": {
   "name": "python"
  }
 },
 "nbformat": 4,
 "nbformat_minor": 2
}
